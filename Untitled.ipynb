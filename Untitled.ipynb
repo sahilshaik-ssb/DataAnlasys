{
 "cells": [
  {
   "cell_type": "code",
   "execution_count": 20,
   "metadata": {},
   "outputs": [
    {
     "name": "stdout",
     "output_type": "stream",
     "text": [
      "enter the size2\n",
      "Enter the numbers to be added1\n",
      "Enter the numbers to be added2\n",
      "additio of the numbers is : 3\n"
     ]
    }
   ],
   "source": [
    "\n",
    "def addition():\n",
    "    add=0\n",
    "    n=int(input(\"enter the size\"))\n",
    "    for i in range(0,n):\n",
    "        a=int(input(\"Enter the numbers to be added\"))\n",
    "        add=add+a\n",
    "    print(\"additio of the numbers is :\",add)\n",
    "addition()"
   ]
  },
  {
   "cell_type": "markdown",
   "metadata": {},
   "source": [
    "[sahilbasha08](http://sahilbasha08.blogspot.com)"
   ]
  },
  {
   "cell_type": "markdown",
   "metadata": {},
   "source": [
    "# Files"
   ]
  },
  {
   "cell_type": "markdown",
   "metadata": {},
   "source": [
    "- open(filename, mode)\n",
    "- read()\n",
    "- write()\n",
    "- readlines()\n",
    "- close()\n"
   ]
  },
  {
   "cell_type": "code",
   "execution_count": 42,
   "metadata": {},
   "outputs": [
    {
     "name": "stdout",
     "output_type": "stream",
     "text": [
      "sahil basha\n"
     ]
    }
   ],
   "source": [
    "s=open('C:/Users/Administrator/Desktop/sahil.txt','w')\n",
    "p=\"sahil basha\"\n",
    "s.write(p)\n",
    "s.close()\n",
    "s=open('C:/Users/Administrator/Desktop/sahil.txt','r')\n",
    "d=s.read()\n",
    "print(d)\n"
   ]
  },
  {
   "cell_type": "code",
   "execution_count": 72,
   "metadata": {},
   "outputs": [],
   "source": [
    "s=open('C:/Users/Administrator/Desktop/sahil.txt','w')\n",
    "s.write(\"welcom to NEC\")\n",
    "s.close()\n"
   ]
  },
  {
   "cell_type": "code",
   "execution_count": 73,
   "metadata": {},
   "outputs": [
    {
     "data": {
      "text/plain": [
       "'welcom to NEC\\nsahil basha'"
      ]
     },
     "execution_count": 73,
     "metadata": {},
     "output_type": "execute_result"
    }
   ],
   "source": [
    "s=open('C:/Users/Administrator/Desktop/sahil.txt','a')\n",
    "p=\"\\nsahil basha\"\n",
    "s.write(p)\n",
    "s.close()\n",
    "s=open('C:/Users/Administrator/Desktop/sahil.txt','r')\n",
    "s.read()\n"
   ]
  },
  {
   "cell_type": "code",
   "execution_count": 77,
   "metadata": {},
   "outputs": [
    {
     "name": "stdout",
     "output_type": "stream",
     "text": [
      "['welcom', 'to', 'NEC\\nsahil', 'basha']\n"
     ]
    }
   ],
   "source": [
    "s=open('C:/Users/Administrator/Desktop/sahil.txt','r')\n",
    "m=s.read()\n",
    "p=m.split(\" \")\n",
    "print(p)\n"
   ]
  },
  {
   "cell_type": "code",
   "execution_count": 100,
   "metadata": {},
   "outputs": [
    {
     "name": "stdout",
     "output_type": "stream",
     "text": [
      "<class 'int'>\n",
      "<class 'int'>\n",
      "<class 'int'>\n",
      "<class 'int'>\n",
      "<class 'int'>\n",
      "<class 'int'>\n",
      "<class 'int'>\n"
     ]
    }
   ],
   "source": [
    "s=open('C:/Users/Administrator/Desktop/num.txt','r')\n",
    "p=s.read()\n",
    "l=p.split(\" \")\n",
    "for i in range (0,len(l)):\n",
    "    l[i]=int(l[i])\n",
    "    print(type(l[i]))"
   ]
  },
  {
   "cell_type": "code",
   "execution_count": 79,
   "metadata": {},
   "outputs": [
    {
     "data": {
      "text/plain": [
       "int"
      ]
     },
     "execution_count": 79,
     "metadata": {},
     "output_type": "execute_result"
    }
   ],
   "source": [
    "i=10\n",
    "type(i)"
   ]
  },
  {
   "cell_type": "markdown",
   "metadata": {},
   "source": [
    "# Regular Expressions"
   ]
  },
  {
   "cell_type": "code",
   "execution_count": 1,
   "metadata": {},
   "outputs": [],
   "source": [
    "import re"
   ]
  },
  {
   "cell_type": "markdown",
   "metadata": {},
   "source": [
    "## re.match('pattern',variable)\n"
   ]
  },
  {
   "cell_type": "code",
   "execution_count": 4,
   "metadata": {},
   "outputs": [],
   "source": [
    "a=\"sahil basha\"\n",
    "re.match('r',a)"
   ]
  },
  {
   "cell_type": "markdown",
   "metadata": {},
   "source": [
    "## re.search \n",
    "### shows the first occurance of the charactors we need"
   ]
  },
  {
   "cell_type": "code",
   "execution_count": 6,
   "metadata": {},
   "outputs": [
    {
     "data": {
      "text/plain": [
       "<re.Match object; span=(1, 2), match='a'>"
      ]
     },
     "execution_count": 6,
     "metadata": {},
     "output_type": "execute_result"
    }
   ],
   "source": [
    "a=\"sahilbasha\"\n",
    "re.search('a',a)"
   ]
  },
  {
   "cell_type": "markdown",
   "metadata": {},
   "source": [
    "## re.findall\n",
    "### shows all the occurances of the characotrs"
   ]
  },
  {
   "cell_type": "code",
   "execution_count": 7,
   "metadata": {},
   "outputs": [
    {
     "data": {
      "text/plain": [
       "['a', 'a', 'a']"
      ]
     },
     "execution_count": 7,
     "metadata": {},
     "output_type": "execute_result"
    }
   ],
   "source": [
    "a=\"sahil basha\"\n",
    "re.findall('a',a)"
   ]
  },
  {
   "cell_type": "raw",
   "metadata": {},
   "source": [
    "[]\tA set of characters\t                                                          \"[a-m]\"\t\n",
    "\\\tSignals a special sequence (can also be used to escape special characters)  \t\"\\d\"\t\n",
    ".\tAny character (except newline character)\t                                   \"he..o\"\t\n",
    "^\tStarts with\t                                                                   \"^hello\"\t\n",
    "$\tEnds with\t                                                                  \"world$\"\t\n",
    "*\tZero or more occurrences\t                                                    \"aix*\"\t\n",
    "+\tOne or more occurrences\t                                                       \"aix+\"\t\n",
    "{}\tExactly the specified number of occurrences                                 \t\"al{2}\"\t\n",
    "|\tEither or\t                                                              \"falls|stays\""
   ]
  },
  {
   "cell_type": "code",
   "execution_count": 11,
   "metadata": {},
   "outputs": [
    {
     "data": {
      "text/plain": [
       "<re.Match object; span=(0, 1), match='s'>"
      ]
     },
     "execution_count": 11,
     "metadata": {},
     "output_type": "execute_result"
    }
   ],
   "source": [
    "a=\"sahil basha\"\n",
    "re.search('^s',a)"
   ]
  },
  {
   "cell_type": "code",
   "execution_count": 18,
   "metadata": {},
   "outputs": [
    {
     "data": {
      "text/plain": [
       "<re.Match object; span=(0, 5), match='sahil'>"
      ]
     },
     "execution_count": 18,
     "metadata": {},
     "output_type": "execute_result"
    }
   ],
   "source": [
    "a=\"sahil basha\"\n",
    "re.search('s..',a)"
   ]
  },
  {
   "cell_type": "code",
   "execution_count": 38,
   "metadata": {},
   "outputs": [
    {
     "name": "stdout",
     "output_type": "stream",
     "text": [
      "sahil\n",
      "shaik\n"
     ]
    }
   ],
   "source": [
    "a=['sahil','basha','shaik','madeena']\n",
    "for i in a:\n",
    "    if re.search('^s.{4}',i):\n",
    "        print(i)"
   ]
  },
  {
   "cell_type": "code",
   "execution_count": 42,
   "metadata": {},
   "outputs": [
    {
     "data": {
      "text/plain": [
       "['2', '3', '1', '2', '1']"
      ]
     },
     "execution_count": 42,
     "metadata": {},
     "output_type": "execute_result"
    }
   ],
   "source": [
    "a=\"sahil basha23121\"\n",
    "re.findall('\\d',a)"
   ]
  },
  {
   "cell_type": "code",
   "execution_count": 44,
   "metadata": {},
   "outputs": [
    {
     "data": {
      "text/plain": [
       "['s',\n",
       " 'a',\n",
       " 'h',\n",
       " 'i',\n",
       " 'l',\n",
       " ' ',\n",
       " 'b',\n",
       " 'a',\n",
       " 's',\n",
       " 'h',\n",
       " 'a',\n",
       " 's',\n",
       " 'j',\n",
       " 'k',\n",
       " 'l',\n",
       " 'd',\n",
       " 'f',\n",
       " 'n',\n",
       " 'j',\n",
       " 'i',\n",
       " 'o',\n",
       " 's',\n",
       " 'd',\n",
       " '^',\n",
       " '&',\n",
       " '%',\n",
       " '^',\n",
       " '*']"
      ]
     },
     "execution_count": 44,
     "metadata": {},
     "output_type": "execute_result"
    }
   ],
   "source": [
    "a=\"sahil basha23sjkldfnjiosd^&%^*121\"\n",
    "re.findall('\\D',a)"
   ]
  },
  {
   "cell_type": "code",
   "execution_count": 47,
   "metadata": {},
   "outputs": [
    {
     "data": {
      "text/plain": [
       "[' ', '^', '&', '%', '^', '*']"
      ]
     },
     "execution_count": 47,
     "metadata": {},
     "output_type": "execute_result"
    }
   ],
   "source": [
    "a=\"sahil basha23sjkldfnjiosd^&%^*121\"\n",
    "re.findall('\\W',a)"
   ]
  },
  {
   "cell_type": "code",
   "execution_count": null,
   "metadata": {},
   "outputs": [],
   "source": [
    " "
   ]
  }
 ],
 "metadata": {
  "kernelspec": {
   "display_name": "Python 3",
   "language": "python",
   "name": "python3"
  },
  "language_info": {
   "codemirror_mode": {
    "name": "ipython",
    "version": 3
   },
   "file_extension": ".py",
   "mimetype": "text/x-python",
   "name": "python",
   "nbconvert_exporter": "python",
   "pygments_lexer": "ipython3",
   "version": "3.8.5"
  }
 },
 "nbformat": 4,
 "nbformat_minor": 4
}
